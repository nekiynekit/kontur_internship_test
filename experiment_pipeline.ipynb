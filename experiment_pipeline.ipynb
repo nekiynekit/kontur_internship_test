{
  "cells": [
    {
      "cell_type": "code",
      "source": [
        "!pip install transformers"
      ],
      "metadata": {
        "colab": {
          "base_uri": "https://localhost:8080/"
        },
        "id": "x4yiE1k9qMyK",
        "outputId": "62c19925-51dc-494f-b135-20e79fb81033"
      },
      "execution_count": 62,
      "outputs": [
        {
          "output_type": "stream",
          "name": "stdout",
          "text": [
            "Requirement already satisfied: transformers in /usr/local/lib/python3.7/dist-packages (4.18.0)\n",
            "Requirement already satisfied: pyyaml>=5.1 in /usr/local/lib/python3.7/dist-packages (from transformers) (6.0)\n",
            "Requirement already satisfied: tqdm>=4.27 in /usr/local/lib/python3.7/dist-packages (from transformers) (4.64.0)\n",
            "Requirement already satisfied: importlib-metadata in /usr/local/lib/python3.7/dist-packages (from transformers) (4.11.3)\n",
            "Requirement already satisfied: tokenizers!=0.11.3,<0.13,>=0.11.1 in /usr/local/lib/python3.7/dist-packages (from transformers) (0.12.1)\n",
            "Requirement already satisfied: numpy>=1.17 in /usr/local/lib/python3.7/dist-packages (from transformers) (1.21.6)\n",
            "Requirement already satisfied: filelock in /usr/local/lib/python3.7/dist-packages (from transformers) (3.6.0)\n",
            "Requirement already satisfied: huggingface-hub<1.0,>=0.1.0 in /usr/local/lib/python3.7/dist-packages (from transformers) (0.5.1)\n",
            "Requirement already satisfied: sacremoses in /usr/local/lib/python3.7/dist-packages (from transformers) (0.0.49)\n",
            "Requirement already satisfied: packaging>=20.0 in /usr/local/lib/python3.7/dist-packages (from transformers) (21.3)\n",
            "Requirement already satisfied: requests in /usr/local/lib/python3.7/dist-packages (from transformers) (2.23.0)\n",
            "Requirement already satisfied: regex!=2019.12.17 in /usr/local/lib/python3.7/dist-packages (from transformers) (2019.12.20)\n",
            "Requirement already satisfied: typing-extensions>=3.7.4.3 in /usr/local/lib/python3.7/dist-packages (from huggingface-hub<1.0,>=0.1.0->transformers) (4.1.1)\n",
            "Requirement already satisfied: pyparsing!=3.0.5,>=2.0.2 in /usr/local/lib/python3.7/dist-packages (from packaging>=20.0->transformers) (3.0.8)\n",
            "Requirement already satisfied: zipp>=0.5 in /usr/local/lib/python3.7/dist-packages (from importlib-metadata->transformers) (3.8.0)\n",
            "Requirement already satisfied: idna<3,>=2.5 in /usr/local/lib/python3.7/dist-packages (from requests->transformers) (2.10)\n",
            "Requirement already satisfied: certifi>=2017.4.17 in /usr/local/lib/python3.7/dist-packages (from requests->transformers) (2021.10.8)\n",
            "Requirement already satisfied: urllib3!=1.25.0,!=1.25.1,<1.26,>=1.21.1 in /usr/local/lib/python3.7/dist-packages (from requests->transformers) (1.24.3)\n",
            "Requirement already satisfied: chardet<4,>=3.0.2 in /usr/local/lib/python3.7/dist-packages (from requests->transformers) (3.0.4)\n",
            "Requirement already satisfied: six in /usr/local/lib/python3.7/dist-packages (from sacremoses->transformers) (1.15.0)\n",
            "Requirement already satisfied: click in /usr/local/lib/python3.7/dist-packages (from sacremoses->transformers) (7.1.2)\n",
            "Requirement already satisfied: joblib in /usr/local/lib/python3.7/dist-packages (from sacremoses->transformers) (1.1.0)\n"
          ]
        }
      ]
    },
    {
      "cell_type": "code",
      "execution_count": 63,
      "metadata": {
        "id": "2pR3ThTzpn2u"
      },
      "outputs": [],
      "source": [
        "import numpy as np\n",
        "import pandas as pd\n",
        "import matplotlib.pyplot as plt\n",
        "\n",
        "from sklearn.metrics import PrecisionRecallDisplay, precision_recall_curve\n",
        "from sklearn.metrics import f1_score, accuracy_score, roc_auc_score\n",
        "from sklearn.model_selection import train_test_split\n",
        "\n",
        "from torch.nn.functional import cross_entropy, softmax\n",
        "from torch import tensor, save, device\n",
        "from torch.optim import AdamW\n",
        "\n",
        "from transformers import AutoTokenizer, AutoModelForSequenceClassification"
      ]
    },
    {
      "cell_type": "markdown",
      "metadata": {
        "id": "Mr6V6V69pn25"
      },
      "source": [
        "# Разобьем данные на выборки, определим константы и гиперпараметры\n",
        "Здесь train_len - доля тестовой выборки взятой из train.tsv, а test_len - доля выборки для подсчета метрик, в случае если данные нужно разметить test_len = 1e-2"
      ]
    },
    {
      "cell_type": "code",
      "execution_count": 64,
      "metadata": {
        "id": "ycbSzUHapn2-"
      },
      "outputs": [],
      "source": [
        "train_len = 0.9\n",
        "test_len = 1e-2\n",
        "\n",
        "count_metric = False\n",
        "mark_test = True\n",
        "\n",
        "batch_size = 512\n",
        "epoch = 4\n",
        "learning_rate = 5e-4\n",
        "\n",
        "data = pd.read_csv('train.tsv', sep='\\t')\n",
        "data = data.sample(frac=1, random_state=42)\n",
        "train, test_and_valid = train_test_split(data, test_size=(1. - train_len), train_size=train_len)\n",
        "test, valid = train_test_split(test_and_valid, test_size=(1. - test_len), train_size=test_len)\n",
        "\n",
        "length = len(train)\n",
        "num_of_batches = (length + batch_size - 1) // batch_size"
      ]
    },
    {
      "cell_type": "markdown",
      "metadata": {
        "id": "KBlxWAGGpn3A"
      },
      "source": [
        "# Загрузим модель и поместим ее на видеокарту"
      ]
    },
    {
      "cell_type": "code",
      "execution_count": 65,
      "metadata": {
        "colab": {
          "base_uri": "https://localhost:8080/"
        },
        "id": "R0zsi8Ntpn3C",
        "outputId": "a23cb789-5760-4c8d-9d12-4e5967dba1a8"
      },
      "outputs": [
        {
          "output_type": "stream",
          "name": "stderr",
          "text": [
            "Some weights of the model checkpoint at cointegrated/rubert-tiny2 were not used when initializing BertForSequenceClassification: ['cls.predictions.decoder.weight', 'cls.predictions.decoder.bias', 'cls.predictions.transform.dense.weight', 'cls.seq_relationship.bias', 'cls.predictions.bias', 'cls.predictions.transform.LayerNorm.bias', 'cls.predictions.transform.dense.bias', 'cls.predictions.transform.LayerNorm.weight', 'cls.seq_relationship.weight']\n",
            "- This IS expected if you are initializing BertForSequenceClassification from the checkpoint of a model trained on another task or with another architecture (e.g. initializing a BertForSequenceClassification model from a BertForPreTraining model).\n",
            "- This IS NOT expected if you are initializing BertForSequenceClassification from the checkpoint of a model that you expect to be exactly identical (initializing a BertForSequenceClassification model from a BertForSequenceClassification model).\n",
            "Some weights of BertForSequenceClassification were not initialized from the model checkpoint at cointegrated/rubert-tiny2 and are newly initialized: ['classifier.weight', 'classifier.bias']\n",
            "You should probably TRAIN this model on a down-stream task to be able to use it for predictions and inference.\n"
          ]
        },
        {
          "output_type": "execute_result",
          "data": {
            "text/plain": [
              "BertForSequenceClassification(\n",
              "  (bert): BertModel(\n",
              "    (embeddings): BertEmbeddings(\n",
              "      (word_embeddings): Embedding(83828, 312, padding_idx=0)\n",
              "      (position_embeddings): Embedding(2048, 312)\n",
              "      (token_type_embeddings): Embedding(2, 312)\n",
              "      (LayerNorm): LayerNorm((312,), eps=1e-12, elementwise_affine=True)\n",
              "      (dropout): Dropout(p=0.1, inplace=False)\n",
              "    )\n",
              "    (encoder): BertEncoder(\n",
              "      (layer): ModuleList(\n",
              "        (0): BertLayer(\n",
              "          (attention): BertAttention(\n",
              "            (self): BertSelfAttention(\n",
              "              (query): Linear(in_features=312, out_features=312, bias=True)\n",
              "              (key): Linear(in_features=312, out_features=312, bias=True)\n",
              "              (value): Linear(in_features=312, out_features=312, bias=True)\n",
              "              (dropout): Dropout(p=0.1, inplace=False)\n",
              "            )\n",
              "            (output): BertSelfOutput(\n",
              "              (dense): Linear(in_features=312, out_features=312, bias=True)\n",
              "              (LayerNorm): LayerNorm((312,), eps=1e-12, elementwise_affine=True)\n",
              "              (dropout): Dropout(p=0.1, inplace=False)\n",
              "            )\n",
              "          )\n",
              "          (intermediate): BertIntermediate(\n",
              "            (dense): Linear(in_features=312, out_features=600, bias=True)\n",
              "            (intermediate_act_fn): GELUActivation()\n",
              "          )\n",
              "          (output): BertOutput(\n",
              "            (dense): Linear(in_features=600, out_features=312, bias=True)\n",
              "            (LayerNorm): LayerNorm((312,), eps=1e-12, elementwise_affine=True)\n",
              "            (dropout): Dropout(p=0.1, inplace=False)\n",
              "          )\n",
              "        )\n",
              "        (1): BertLayer(\n",
              "          (attention): BertAttention(\n",
              "            (self): BertSelfAttention(\n",
              "              (query): Linear(in_features=312, out_features=312, bias=True)\n",
              "              (key): Linear(in_features=312, out_features=312, bias=True)\n",
              "              (value): Linear(in_features=312, out_features=312, bias=True)\n",
              "              (dropout): Dropout(p=0.1, inplace=False)\n",
              "            )\n",
              "            (output): BertSelfOutput(\n",
              "              (dense): Linear(in_features=312, out_features=312, bias=True)\n",
              "              (LayerNorm): LayerNorm((312,), eps=1e-12, elementwise_affine=True)\n",
              "              (dropout): Dropout(p=0.1, inplace=False)\n",
              "            )\n",
              "          )\n",
              "          (intermediate): BertIntermediate(\n",
              "            (dense): Linear(in_features=312, out_features=600, bias=True)\n",
              "            (intermediate_act_fn): GELUActivation()\n",
              "          )\n",
              "          (output): BertOutput(\n",
              "            (dense): Linear(in_features=600, out_features=312, bias=True)\n",
              "            (LayerNorm): LayerNorm((312,), eps=1e-12, elementwise_affine=True)\n",
              "            (dropout): Dropout(p=0.1, inplace=False)\n",
              "          )\n",
              "        )\n",
              "        (2): BertLayer(\n",
              "          (attention): BertAttention(\n",
              "            (self): BertSelfAttention(\n",
              "              (query): Linear(in_features=312, out_features=312, bias=True)\n",
              "              (key): Linear(in_features=312, out_features=312, bias=True)\n",
              "              (value): Linear(in_features=312, out_features=312, bias=True)\n",
              "              (dropout): Dropout(p=0.1, inplace=False)\n",
              "            )\n",
              "            (output): BertSelfOutput(\n",
              "              (dense): Linear(in_features=312, out_features=312, bias=True)\n",
              "              (LayerNorm): LayerNorm((312,), eps=1e-12, elementwise_affine=True)\n",
              "              (dropout): Dropout(p=0.1, inplace=False)\n",
              "            )\n",
              "          )\n",
              "          (intermediate): BertIntermediate(\n",
              "            (dense): Linear(in_features=312, out_features=600, bias=True)\n",
              "            (intermediate_act_fn): GELUActivation()\n",
              "          )\n",
              "          (output): BertOutput(\n",
              "            (dense): Linear(in_features=600, out_features=312, bias=True)\n",
              "            (LayerNorm): LayerNorm((312,), eps=1e-12, elementwise_affine=True)\n",
              "            (dropout): Dropout(p=0.1, inplace=False)\n",
              "          )\n",
              "        )\n",
              "      )\n",
              "    )\n",
              "    (pooler): BertPooler(\n",
              "      (dense): Linear(in_features=312, out_features=312, bias=True)\n",
              "      (activation): Tanh()\n",
              "    )\n",
              "  )\n",
              "  (dropout): Dropout(p=0.1, inplace=False)\n",
              "  (classifier): Linear(in_features=312, out_features=2, bias=True)\n",
              ")"
            ]
          },
          "metadata": {},
          "execution_count": 65
        }
      ],
      "source": [
        "model_name = 'cointegrated/rubert-tiny2'\n",
        "tokenizer = AutoTokenizer.from_pretrained(model_name)\n",
        "model = AutoModelForSequenceClassification.from_pretrained(model_name)\n",
        "optimizer = AdamW(model.parameters(), lr=learning_rate)\n",
        "\n",
        "try:\n",
        "  dev = device('cuda:0')\n",
        "except Exception:\n",
        "  dev = device('cpu:0')\n",
        "\n",
        "model.to(dev)"
      ]
    },
    {
      "cell_type": "markdown",
      "metadata": {
        "id": "--IkX7Utpn3H"
      },
      "source": [
        "# Код для обучения модели"
      ]
    },
    {
      "cell_type": "code",
      "execution_count": 66,
      "metadata": {
        "id": "UsP7x6OEpn3I"
      },
      "outputs": [],
      "source": [
        "def train_model(dataset):\n",
        "  \n",
        "  losses = []\n",
        "\n",
        "  model.train()\n",
        "  for _ in range(epoch):\n",
        "\n",
        "    print(f'Epoch number {_+1}:')\n",
        "    dataset = dataset.sample(frac=1, random_state=7)\n",
        "    titles = dataset['title']\n",
        "    labels = dataset['is_fake']\n",
        "\n",
        "    batches = [[] for _ in range(num_of_batches)]\n",
        "    true_score = [[] for _ in range(num_of_batches)]\n",
        "\n",
        "    for idx, arg in enumerate(zip(titles, labels)):\n",
        "\n",
        "      def get_label(n):\n",
        "        label = [0., 0.]\n",
        "        label[n] = 1.\n",
        "        return label\n",
        "\n",
        "      text, label = arg\n",
        "      batches[idx % num_of_batches].append(text)\n",
        "      true_score[idx % num_of_batches].append(get_label(label))\n",
        "\n",
        "    print(f'Batches ready, start training:')\n",
        "\n",
        "    batches = [tokenizer(batch, truncation=True, padding=True, return_tensors='pt') for batch in batches]\n",
        "    for idx, arg in enumerate(zip(batches, true_score)):\n",
        "      batch, label = arg\n",
        "\n",
        "      output = model(batch['input_ids'].to(dev), batch['attention_mask'].to(dev))\n",
        "      label = tensor(label).to(dev)\n",
        "      loss = cross_entropy(output.logits, label)\n",
        "\n",
        "      loss.backward()\n",
        "      optimizer.step()\n",
        "      model.zero_grad()\n",
        "\n",
        "      losses.append(float(loss))\n",
        "\n",
        "      print(f'Epoch: {_ + 1}, loss = {loss}, processing {100*idx//num_of_batches}% of batches')\n",
        "\n",
        "  return losses"
      ]
    },
    {
      "cell_type": "code",
      "execution_count": 67,
      "metadata": {
        "colab": {
          "base_uri": "https://localhost:8080/",
          "height": 1000
        },
        "id": "6i3CQDmrpn3K",
        "outputId": "f5adddeb-5626-4801-bc4b-8b721d5b0cde"
      },
      "outputs": [
        {
          "output_type": "stream",
          "name": "stdout",
          "text": [
            "Epoch number 1:\n",
            "Batches ready, start training:\n",
            "Epoch: 1, loss = 0.6914331912994385, processing 0% of batches\n",
            "Epoch: 1, loss = 0.6443195939064026, processing 9% of batches\n",
            "Epoch: 1, loss = 0.5714970827102661, processing 18% of batches\n",
            "Epoch: 1, loss = 0.5297219157218933, processing 27% of batches\n",
            "Epoch: 1, loss = 0.42489275336265564, processing 36% of batches\n",
            "Epoch: 1, loss = 0.3775339722633362, processing 45% of batches\n",
            "Epoch: 1, loss = 0.3764486014842987, processing 54% of batches\n",
            "Epoch: 1, loss = 0.3591556251049042, processing 63% of batches\n",
            "Epoch: 1, loss = 0.3504996597766876, processing 72% of batches\n",
            "Epoch: 1, loss = 0.316470205783844, processing 81% of batches\n",
            "Epoch: 1, loss = 0.3338571786880493, processing 90% of batches\n",
            "Epoch number 2:\n",
            "Batches ready, start training:\n",
            "Epoch: 2, loss = 0.24032706022262573, processing 0% of batches\n",
            "Epoch: 2, loss = 0.22453562915325165, processing 9% of batches\n",
            "Epoch: 2, loss = 0.20655035972595215, processing 18% of batches\n",
            "Epoch: 2, loss = 0.17644575238227844, processing 27% of batches\n",
            "Epoch: 2, loss = 0.12007419019937515, processing 36% of batches\n",
            "Epoch: 2, loss = 0.15322844684123993, processing 45% of batches\n",
            "Epoch: 2, loss = 0.14844577014446259, processing 54% of batches\n",
            "Epoch: 2, loss = 0.12324821203947067, processing 63% of batches\n",
            "Epoch: 2, loss = 0.1463068276643753, processing 72% of batches\n",
            "Epoch: 2, loss = 0.14410510659217834, processing 81% of batches\n",
            "Epoch: 2, loss = 0.11523239314556122, processing 90% of batches\n",
            "Epoch number 3:\n",
            "Batches ready, start training:\n",
            "Epoch: 3, loss = 0.0739457756280899, processing 0% of batches\n",
            "Epoch: 3, loss = 0.03970254957675934, processing 9% of batches\n",
            "Epoch: 3, loss = 0.04398670792579651, processing 18% of batches\n",
            "Epoch: 3, loss = 0.06965740770101547, processing 27% of batches\n",
            "Epoch: 3, loss = 0.04237424209713936, processing 36% of batches\n",
            "Epoch: 3, loss = 0.029725058004260063, processing 45% of batches\n",
            "Epoch: 3, loss = 0.04946712404489517, processing 54% of batches\n",
            "Epoch: 3, loss = 0.0224232729524374, processing 63% of batches\n",
            "Epoch: 3, loss = 0.017452819272875786, processing 72% of batches\n",
            "Epoch: 3, loss = 0.010747576132416725, processing 81% of batches\n",
            "Epoch: 3, loss = 0.014001761563122272, processing 90% of batches\n",
            "Epoch number 4:\n",
            "Batches ready, start training:\n",
            "Epoch: 4, loss = 0.010225300677120686, processing 0% of batches\n",
            "Epoch: 4, loss = 0.01328383106738329, processing 9% of batches\n",
            "Epoch: 4, loss = 0.0041304719634354115, processing 18% of batches\n",
            "Epoch: 4, loss = 0.0042630573734641075, processing 27% of batches\n",
            "Epoch: 4, loss = 0.00421446468681097, processing 36% of batches\n",
            "Epoch: 4, loss = 0.003416838590055704, processing 45% of batches\n",
            "Epoch: 4, loss = 0.0014506943989545107, processing 54% of batches\n",
            "Epoch: 4, loss = 0.005265827290713787, processing 63% of batches\n",
            "Epoch: 4, loss = 0.015219449996948242, processing 72% of batches\n",
            "Epoch: 4, loss = 0.0014803481753915548, processing 81% of batches\n",
            "Epoch: 4, loss = 0.0017785889795050025, processing 90% of batches\n"
          ]
        },
        {
          "output_type": "display_data",
          "data": {
            "text/plain": [
              "<Figure size 432x288 with 1 Axes>"
            ],
            "image/png": "[encoded data removed]"
          },
          "metadata": {
            "needs_background": "light"
          }
        }
      ],
      "source": [
        "losses = train_model(train)\n",
        "\n",
        "plt.plot(losses)\n",
        "plt.show()"
      ]
    },
    {
      "cell_type": "code",
      "execution_count": 68,
      "metadata": {
        "id": "Tb2fdLrDpn3M"
      },
      "outputs": [],
      "source": [
        "def mark(titles, labels):\n",
        "    model.to('cpu:0')\n",
        "    pred, true = [], []\n",
        "    for text, label in zip(titles, labels):\n",
        "        token = tokenizer(text, truncation=True, padding=True, return_tensors='pt')\n",
        "        ids, mask = token['input_ids'], token['attention_mask']\n",
        "\n",
        "        label = tensor(label).unsqueeze(0)\n",
        "        output = model(ids, attention_mask=mask)\n",
        "\n",
        "        pred.append(float(softmax(output.logits, dim=1)[0][1]))\n",
        "        true.append(int(label))\n",
        "    return pred, true\n",
        "\n",
        "def print_scores(pred, true, treshold):\n",
        "    pred = list(map(lambda x: int(x > treshold), pred))\n",
        "\n",
        "    f1 = f1_score(true, pred)\n",
        "    print(f'F1_score for this model: {f1}')\n",
        "    acc = accuracy_score(true, pred)\n",
        "    print(f'Accuracy score for this model: {acc}')\n",
        "    roc_auc = roc_auc_score(true, pred)\n",
        "    print(f'ROC-AUC score for this model: {roc_auc}')\n",
        "\n",
        "def validate(pred, true):\n",
        "    precision, recall, trash = precision_recall_curve(true, pred)\n",
        "    disp = PrecisionRecallDisplay(precision=precision, recall=recall)\n",
        "    disp.plot()\n",
        "    plt.show()\n",
        "\n",
        "    best_thold = 0\n",
        "    best_ans = 0\n",
        "    for thold in np.arange(0, 1, 0.05, dtype=float):\n",
        "        custom_pred = [int(i > thold) for i in pred]\n",
        "        f1 = f1_score(true, custom_pred)\n",
        "        if f1 > best_ans:\n",
        "            best_ans = f1\n",
        "            best_thold = thold\n",
        "    return best_thold"
      ]
    },
    {
      "cell_type": "markdown",
      "metadata": {
        "id": "wp2vD8clpn3O"
      },
      "source": [
        "# Провалидируем и если нужно посмотрим на значения метрик"
      ]
    },
    {
      "cell_type": "code",
      "execution_count": 69,
      "metadata": {
        "colab": {
          "base_uri": "https://localhost:8080/",
          "height": 296
        },
        "id": "3hfMtlFXpn3P",
        "outputId": "8e367b4c-95a5-4c62-db83-25c36908cdf5"
      },
      "outputs": [
        {
          "output_type": "display_data",
          "data": {
            "text/plain": [
              "<Figure size 432x288 with 1 Axes>"
            ],
            "image/png": "[encoded data removed]"
          },
          "metadata": {
            "needs_background": "light"
          }
        },
        {
          "output_type": "stream",
          "name": "stdout",
          "text": [
            "0.05\n"
          ]
        }
      ],
      "source": [
        "model.eval()\n",
        "\n",
        "titles_v = valid['title']\n",
        "labels_v = valid['is_fake']\n",
        "pred_v, true_v = mark(titles_v, labels_v)\n",
        "threshold = validate(pred_v, true_v)\n",
        "print(threshold)\n",
        "\n",
        "if count_metric > 0:\n",
        "    titles_test = test['title']\n",
        "    labels_test = test['is_fake']\n",
        "    pred, true = mark(titles_test, labels_test)\n",
        "    print_scores(pred, true, 0.5)"
      ]
    },
    {
      "cell_type": "markdown",
      "metadata": {
        "id": "_JLblMkApn3Q"
      },
      "source": [
        "# Определим функции для разметки тестовой выборки"
      ]
    },
    {
      "cell_type": "code",
      "execution_count": 70,
      "metadata": {
        "id": "9Y3Xz51Wpn3Q"
      },
      "outputs": [],
      "source": [
        "def get_pred(text, threshold):\n",
        "  token = tokenizer(text, truncation=True, padding=True, return_tensors='pt')\n",
        "  ids, mask = token['input_ids'], token['attention_mask']\n",
        "  output = model(ids, attention_mask=mask)\n",
        "  label = float(softmax(output.logits, dim=1)[0][1]) > threshold\n",
        "  return int(label)\n",
        "\n",
        "def mark_test_data(test_data):\n",
        "    for i in range(len(test_data)):\n",
        "        test_data['is_fake'][i] = get_pred(test_data['title'][i], threshold)\n",
        "    test_data.to_csv('prediction.tsv', sep='\\t')"
      ]
    },
    {
      "cell_type": "code",
      "execution_count": 71,
      "metadata": {
        "id": "lqErgKFtpn3R",
        "colab": {
          "base_uri": "https://localhost:8080/"
        },
        "outputId": "e13b6513-fdc1-49d3-ac6a-61fe01be1a0d"
      },
      "outputs": [
        {
          "output_type": "stream",
          "name": "stderr",
          "text": [
            "/usr/local/lib/python3.7/dist-packages/ipykernel_launcher.py:10: SettingWithCopyWarning: \n",
            "A value is trying to be set on a copy of a slice from a DataFrame\n",
            "\n",
            "See the caveats in the documentation: https://pandas.pydata.org/pandas-docs/stable/user_guide/indexing.html#returning-a-view-versus-a-copy\n",
            "  # Remove the CWD from sys.path while we load stuff.\n"
          ]
        }
      ],
      "source": [
        "if mark_test:\n",
        "    test_data = pd.read_csv('test.tsv', sep='\\t')\n",
        "    mark_test_data(test_data)"
      ]
    }
  ],
  "metadata": {
    "interpreter": {
      "hash": "06ef487a9732e7363aa41f2d844b5284e4a6e1124246fb34c97fb4065c0500f4"
    },
    "kernelspec": {
      "display_name": "Python 3.9.7 64-bit",
      "language": "python",
      "name": "python3"
    },
    "language_info": {
      "codemirror_mode": {
        "name": "ipython",
        "version": 3
      },
      "file_extension": ".py",
      "mimetype": "text/x-python",
      "name": "python",
      "nbconvert_exporter": "python",
      "pygments_lexer": "ipython3",
      "version": "3.9.7"
    },
    "orig_nbformat": 4,
    "colab": {
      "name": "experiment_pipeline.ipynb",
      "provenance": []
    },
    "accelerator": "GPU"
  },
  "nbformat": 4,
  "nbformat_minor": 0
}